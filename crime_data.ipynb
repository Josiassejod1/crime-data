{
 "cells": [
  {
   "cell_type": "code",
   "execution_count": 32,
   "id": "24b517a3-4174-4e3e-bd91-6d652e7f14d9",
   "metadata": {},
   "outputs": [
    {
     "name": "stdout",
     "output_type": "stream",
     "text": [
      "{'Burglary': 731, 'Robbery-Street-Res': 110, 'Larceny': 124, 'Theft from Motor Vehicle': 28, 'Drug Offenses': 24, 'Criminal Mischief-Property': 78, 'All Other Crimes': 66, 'Robbery-Business': 19, 'Agg ASLT-Other': 17, 'Agg ASLT-Firearm': 15, 'Criminal Mischief-Vehicle': 4, 'Simple Assault': 18, 'Auto Theft': 6, 'Weapons Offense': 2}\n"
     ]
    }
   ],
   "source": [
    "import pandas as pd\n",
    "import matplotlib.pyplot as plt\n",
    "df = pd.read_csv('https://query.data.world/s/h5atj2caqjoap547l7mbbr7cupftnc', skiprows=[0, 1, 3,4,5, 6, 7, 8,8,9, 11, 12, 13])\n",
    "\n",
    "crime_description =  tuple(df.iloc[:,(11)].values)\n",
    "crimes_count = {}\n",
    "\n",
    "for crime in crime_description:\n",
    "    count = crimes_count.get(crime)\n",
    "    if count == None:\n",
    "        crimes_count[crime] = 1\n",
    "    else:\n",
    "        crimes_count[crime] += 1\n",
    "\n",
    "print(crimes_count)\n"
   ]
  },
  {
   "cell_type": "code",
   "execution_count": null,
   "id": "7bea4f64-f8bd-4227-b8b0-662fad2c1fa4",
   "metadata": {},
   "outputs": [],
   "source": []
  }
 ],
 "metadata": {
  "kernelspec": {
   "display_name": "Python 3 (ipykernel)",
   "language": "python",
   "name": "python3"
  },
  "language_info": {
   "codemirror_mode": {
    "name": "ipython",
    "version": 3
   },
   "file_extension": ".py",
   "mimetype": "text/x-python",
   "name": "python",
   "nbconvert_exporter": "python",
   "pygments_lexer": "ipython3",
   "version": "3.7.10"
  }
 },
 "nbformat": 4,
 "nbformat_minor": 5
}
